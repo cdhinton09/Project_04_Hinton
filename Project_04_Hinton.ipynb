{
 "cells": [
  {
   "cell_type": "markdown",
   "id": "d55ea764",
   "metadata": {},
   "source": [
    "# DSCI 503 – Project 04\n",
    "### Christopher Hinton"
   ]
  },
  {
   "cell_type": "code",
   "execution_count": 1,
   "id": "32b18619",
   "metadata": {},
   "outputs": [],
   "source": [
    "import numpy as np\n",
    "import pandas as pd\n",
    "import matplotlib.pyplot as plt\n",
    "from sklearn.model_selection import train_test_split\n",
    "from sklearn.preprocessing import OneHotEncoder\n",
    "from sklearn.metrics import confusion_matrix, classification_report\n",
    "from sklearn.ensemble import RandomForestClassifier\n",
    "from sklearn.linear_model import LogisticRegression\n",
    "from sklearn.tree import DecisionTreeClassifier\n",
    "\n"
   ]
  },
  {
   "cell_type": "markdown",
   "id": "cc8ac626",
   "metadata": {},
   "source": [
    "## Part 1: Loading the Dataset; Preliminary Analysis\n",
    "In Part 1 we will load the data into a DataFrame, then explore its basic structure and characteristics.\n"
   ]
  },
  {
   "cell_type": "code",
   "execution_count": 2,
   "id": "c31a2c7b",
   "metadata": {},
   "outputs": [
    {
     "data": {
      "text/html": [
       "<div>\n",
       "<style scoped>\n",
       "    .dataframe tbody tr th:only-of-type {\n",
       "        vertical-align: middle;\n",
       "    }\n",
       "\n",
       "    .dataframe tbody tr th {\n",
       "        vertical-align: top;\n",
       "    }\n",
       "\n",
       "    .dataframe thead th {\n",
       "        text-align: right;\n",
       "    }\n",
       "</style>\n",
       "<table border=\"1\" class=\"dataframe\">\n",
       "  <thead>\n",
       "    <tr style=\"text-align: right;\">\n",
       "      <th></th>\n",
       "      <th>Elevation</th>\n",
       "      <th>Aspect</th>\n",
       "      <th>Slope</th>\n",
       "      <th>Horizontal_Distance_To_Hydrology</th>\n",
       "      <th>Vertical_Distance_To_Hydrology</th>\n",
       "      <th>Horizontal_Distance_To_Roadways</th>\n",
       "      <th>Hillshade_9am</th>\n",
       "      <th>Hillshade_Noon</th>\n",
       "      <th>Hillshade_3pm</th>\n",
       "      <th>Horizontal_Distance_To_Fire_Points</th>\n",
       "      <th>Wilderness_Area</th>\n",
       "      <th>Soil_Type</th>\n",
       "      <th>Cover_Type</th>\n",
       "    </tr>\n",
       "  </thead>\n",
       "  <tbody>\n",
       "    <tr>\n",
       "      <th>0</th>\n",
       "      <td>2596</td>\n",
       "      <td>51</td>\n",
       "      <td>3</td>\n",
       "      <td>258</td>\n",
       "      <td>0</td>\n",
       "      <td>510</td>\n",
       "      <td>221</td>\n",
       "      <td>232</td>\n",
       "      <td>148</td>\n",
       "      <td>6279</td>\n",
       "      <td>Rawah</td>\n",
       "      <td>29</td>\n",
       "      <td>5</td>\n",
       "    </tr>\n",
       "    <tr>\n",
       "      <th>1</th>\n",
       "      <td>2590</td>\n",
       "      <td>56</td>\n",
       "      <td>2</td>\n",
       "      <td>212</td>\n",
       "      <td>-6</td>\n",
       "      <td>390</td>\n",
       "      <td>220</td>\n",
       "      <td>235</td>\n",
       "      <td>151</td>\n",
       "      <td>6225</td>\n",
       "      <td>Rawah</td>\n",
       "      <td>29</td>\n",
       "      <td>5</td>\n",
       "    </tr>\n",
       "    <tr>\n",
       "      <th>2</th>\n",
       "      <td>2804</td>\n",
       "      <td>139</td>\n",
       "      <td>9</td>\n",
       "      <td>268</td>\n",
       "      <td>65</td>\n",
       "      <td>3180</td>\n",
       "      <td>234</td>\n",
       "      <td>238</td>\n",
       "      <td>135</td>\n",
       "      <td>6121</td>\n",
       "      <td>Rawah</td>\n",
       "      <td>12</td>\n",
       "      <td>2</td>\n",
       "    </tr>\n",
       "    <tr>\n",
       "      <th>3</th>\n",
       "      <td>2785</td>\n",
       "      <td>155</td>\n",
       "      <td>18</td>\n",
       "      <td>242</td>\n",
       "      <td>118</td>\n",
       "      <td>3090</td>\n",
       "      <td>238</td>\n",
       "      <td>238</td>\n",
       "      <td>122</td>\n",
       "      <td>6211</td>\n",
       "      <td>Rawah</td>\n",
       "      <td>30</td>\n",
       "      <td>2</td>\n",
       "    </tr>\n",
       "    <tr>\n",
       "      <th>4</th>\n",
       "      <td>2595</td>\n",
       "      <td>45</td>\n",
       "      <td>2</td>\n",
       "      <td>153</td>\n",
       "      <td>-1</td>\n",
       "      <td>391</td>\n",
       "      <td>220</td>\n",
       "      <td>234</td>\n",
       "      <td>150</td>\n",
       "      <td>6172</td>\n",
       "      <td>Rawah</td>\n",
       "      <td>29</td>\n",
       "      <td>5</td>\n",
       "    </tr>\n",
       "  </tbody>\n",
       "</table>\n",
       "</div>"
      ],
      "text/plain": [
       "   Elevation  Aspect  Slope  Horizontal_Distance_To_Hydrology  \\\n",
       "0       2596      51      3                               258   \n",
       "1       2590      56      2                               212   \n",
       "2       2804     139      9                               268   \n",
       "3       2785     155     18                               242   \n",
       "4       2595      45      2                               153   \n",
       "\n",
       "   Vertical_Distance_To_Hydrology  Horizontal_Distance_To_Roadways  \\\n",
       "0                               0                              510   \n",
       "1                              -6                              390   \n",
       "2                              65                             3180   \n",
       "3                             118                             3090   \n",
       "4                              -1                              391   \n",
       "\n",
       "   Hillshade_9am  Hillshade_Noon  Hillshade_3pm  \\\n",
       "0            221             232            148   \n",
       "1            220             235            151   \n",
       "2            234             238            135   \n",
       "3            238             238            122   \n",
       "4            220             234            150   \n",
       "\n",
       "   Horizontal_Distance_To_Fire_Points Wilderness_Area  Soil_Type  Cover_Type  \n",
       "0                                6279           Rawah         29           5  \n",
       "1                                6225           Rawah         29           5  \n",
       "2                                6121           Rawah         12           2  \n",
       "3                                6211           Rawah         30           2  \n",
       "4                                6172           Rawah         29           5  "
      ]
     },
     "execution_count": 2,
     "metadata": {},
     "output_type": "execute_result"
    }
   ],
   "source": [
    "fc = pd.read_csv(\"forest_cover.txt\", sep=\"\\t\")\n",
    "fc.head()"
   ]
  },
  {
   "cell_type": "markdown",
   "id": "ec7f3cf2",
   "metadata": {},
   "source": [
    "Below we will determine the size of the dataset. As you will see below, this dataset has 15,120 observations, each containing 13 variables."
   ]
  },
  {
   "cell_type": "code",
   "execution_count": 3,
   "id": "2be09987",
   "metadata": {},
   "outputs": [
    {
     "name": "stdout",
     "output_type": "stream",
     "text": [
      "(15120, 13)\n"
     ]
    }
   ],
   "source": [
    "print(fc.shape)"
   ]
  },
  {
   "cell_type": "markdown",
   "id": "11585e7c",
   "metadata": {},
   "source": [
    "Below we will inspect the distribution of cover types in the dataset. This will show how many observations are assigned each cover type."
   ]
  },
  {
   "cell_type": "code",
   "execution_count": 4,
   "id": "a1004520",
   "metadata": {},
   "outputs": [
    {
     "data": {
      "text/plain": [
       "1    2160\n",
       "2    2160\n",
       "3    2160\n",
       "4    2160\n",
       "5    2160\n",
       "6    2160\n",
       "7    2160\n",
       "Name: Cover_Type, dtype: int64"
      ]
     },
     "execution_count": 4,
     "metadata": {},
     "output_type": "execute_result"
    }
   ],
   "source": [
    "fc[\"Cover_Type\"].value_counts().sort_index().head(7)"
   ]
  },
  {
   "cell_type": "markdown",
   "id": "528db6d2",
   "metadata": {},
   "source": [
    " I will now create a list of seven colors to be used as a palette in  plots later in this notebook. "
   ]
  },
  {
   "cell_type": "code",
   "execution_count": 5,
   "id": "47349b9d",
   "metadata": {},
   "outputs": [],
   "source": [
    "palette = ['orchid', 'lightcoral', 'orange', 'gold', 'lightgreen', 'deepskyblue', 'cornflowerblue']"
   ]
  },
  {
   "cell_type": "markdown",
   "id": "0fd43d39",
   "metadata": {},
   "source": [
    "## Part 2: Distribution of Cover Type by Wilderness Area \n",
    "In Part 2 we will determine the distribution of the wilderness areas within the dataset."
   ]
  },
  {
   "cell_type": "code",
   "execution_count": 6,
   "id": "dd35d74c",
   "metadata": {
    "scrolled": true
   },
   "outputs": [
    {
     "data": {
      "text/plain": [
       "Cache la Poudre    4675\n",
       "Comanche Peak      6349\n",
       "Neota               499\n",
       "Rawah              3597\n",
       "Name: Wilderness_Area, dtype: int64"
      ]
     },
     "execution_count": 6,
     "metadata": {},
     "output_type": "execute_result"
    }
   ],
   "source": [
    "fc[\"Wilderness_Area\"].value_counts().sort_index().head()"
   ]
  },
  {
   "cell_type": "markdown",
   "id": "ffb58437",
   "metadata": {},
   "source": [
    "Below we will create a DataFrame to determine the how many regions of each cover type are in each of the four wilderness areas. "
   ]
  },
  {
   "cell_type": "code",
   "execution_count": 7,
   "id": "5d36ff4a",
   "metadata": {},
   "outputs": [
    {
     "data": {
      "text/html": [
       "<div>\n",
       "<style scoped>\n",
       "    .dataframe tbody tr th:only-of-type {\n",
       "        vertical-align: middle;\n",
       "    }\n",
       "\n",
       "    .dataframe tbody tr th {\n",
       "        vertical-align: top;\n",
       "    }\n",
       "\n",
       "    .dataframe thead th {\n",
       "        text-align: right;\n",
       "    }\n",
       "</style>\n",
       "<table border=\"1\" class=\"dataframe\">\n",
       "  <thead>\n",
       "    <tr style=\"text-align: right;\">\n",
       "      <th>Wilderness_Area</th>\n",
       "      <th>Cache la Poudre</th>\n",
       "      <th>Comanche Peak</th>\n",
       "      <th>Neota</th>\n",
       "      <th>Rawah</th>\n",
       "    </tr>\n",
       "    <tr>\n",
       "      <th>Cover_Type</th>\n",
       "      <th></th>\n",
       "      <th></th>\n",
       "      <th></th>\n",
       "      <th></th>\n",
       "    </tr>\n",
       "  </thead>\n",
       "  <tbody>\n",
       "    <tr>\n",
       "      <th>1</th>\n",
       "      <td>0</td>\n",
       "      <td>917</td>\n",
       "      <td>181</td>\n",
       "      <td>1062</td>\n",
       "    </tr>\n",
       "    <tr>\n",
       "      <th>2</th>\n",
       "      <td>20</td>\n",
       "      <td>940</td>\n",
       "      <td>66</td>\n",
       "      <td>1134</td>\n",
       "    </tr>\n",
       "    <tr>\n",
       "      <th>3</th>\n",
       "      <td>1297</td>\n",
       "      <td>863</td>\n",
       "      <td>0</td>\n",
       "      <td>0</td>\n",
       "    </tr>\n",
       "    <tr>\n",
       "      <th>4</th>\n",
       "      <td>2160</td>\n",
       "      <td>0</td>\n",
       "      <td>0</td>\n",
       "      <td>0</td>\n",
       "    </tr>\n",
       "    <tr>\n",
       "      <th>5</th>\n",
       "      <td>0</td>\n",
       "      <td>1304</td>\n",
       "      <td>0</td>\n",
       "      <td>856</td>\n",
       "    </tr>\n",
       "    <tr>\n",
       "      <th>6</th>\n",
       "      <td>1198</td>\n",
       "      <td>962</td>\n",
       "      <td>0</td>\n",
       "      <td>0</td>\n",
       "    </tr>\n",
       "    <tr>\n",
       "      <th>7</th>\n",
       "      <td>0</td>\n",
       "      <td>1363</td>\n",
       "      <td>252</td>\n",
       "      <td>545</td>\n",
       "    </tr>\n",
       "  </tbody>\n",
       "</table>\n",
       "</div>"
      ],
      "text/plain": [
       "Wilderness_Area  Cache la Poudre  Comanche Peak  Neota  Rawah\n",
       "Cover_Type                                                   \n",
       "1                              0            917    181   1062\n",
       "2                             20            940     66   1134\n",
       "3                           1297            863      0      0\n",
       "4                           2160              0      0      0\n",
       "5                              0           1304      0    856\n",
       "6                           1198            962      0      0\n",
       "7                              0           1363    252    545"
      ]
     },
     "execution_count": 7,
     "metadata": {},
     "output_type": "execute_result"
    }
   ],
   "source": [
    "ct_by_wa = pd.crosstab(index=fc[\"Cover_Type\"], \n",
    "                       columns=fc[\"Wilderness_Area\"])\n",
    "ct_by_wa.head(7)"
   ]
  },
  {
   "cell_type": "markdown",
   "id": "8b57732f",
   "metadata": {},
   "source": [
    "Below we will visually represent the information in the above DataFrame in the form of a stacked bar chart"
   ]
  },
  {
   "cell_type": "code",
   "execution_count": 8,
   "id": "10049b59",
   "metadata": {},
   "outputs": [
    {
     "data": {
      "image/png": "[encoded data removed]",
      "text/plain": [
       "<Figure size 800x400 with 1 Axes>"
      ]
     },
     "metadata": {},
     "output_type": "display_data"
    }
   ],
   "source": [
    "ct_by_wa_props = ct_by_wa / ct_by_wa.sum()\n",
    "\n",
    "bb = np.cumsum(ct_by_wa_props) - ct_by_wa_props\n",
    "\n",
    "fig = plt.figure(figsize=[8, 4])\n",
    "\n",
    "cover_types = ct_by_wa_props.index\n",
    "\n",
    "for i, row in enumerate(cover_types):\n",
    "    plt.bar(\n",
    "        ct_by_wa_props.columns,\n",
    "        ct_by_wa_props.iloc[i],\n",
    "        bottom=bb.iloc[i],\n",
    "        color=palette[i],\n",
    "        edgecolor=\"black\",\n",
    "        label=row\n",
    "    )\n",
    "\n",
    "plt.xlabel(\"Wilderness Area\")\n",
    "plt.ylabel(\"Proportion\")\n",
    "plt.title(\"Distribution of Cover Type by Wilderness Area\")\n",
    "\n",
    "plt.legend(loc=\"upper right\", bbox_to_anchor=(1.25, 1))\n",
    "\n",
    "plt.show()"
   ]
  },
  {
   "cell_type": "markdown",
   "id": "d77cd56e",
   "metadata": {},
   "source": [
    "## Part 3: Distribution of Cover Type by Soil Type\n",
    "Below we will start by determining the number of regions of each cover type there are for each of the 40 soil types."
   ]
  },
  {
   "cell_type": "code",
   "execution_count": 9,
   "id": "15200efb",
   "metadata": {},
   "outputs": [
    {
     "data": {
      "text/html": [
       "<div>\n",
       "<style scoped>\n",
       "    .dataframe tbody tr th:only-of-type {\n",
       "        vertical-align: middle;\n",
       "    }\n",
       "\n",
       "    .dataframe tbody tr th {\n",
       "        vertical-align: top;\n",
       "    }\n",
       "\n",
       "    .dataframe thead th {\n",
       "        text-align: right;\n",
       "    }\n",
       "</style>\n",
       "<table border=\"1\" class=\"dataframe\">\n",
       "  <thead>\n",
       "    <tr style=\"text-align: right;\">\n",
       "      <th>Soil_Type</th>\n",
       "      <th>1</th>\n",
       "      <th>2</th>\n",
       "      <th>3</th>\n",
       "      <th>4</th>\n",
       "      <th>5</th>\n",
       "      <th>6</th>\n",
       "      <th>8</th>\n",
       "      <th>9</th>\n",
       "      <th>10</th>\n",
       "      <th>11</th>\n",
       "      <th>...</th>\n",
       "      <th>31</th>\n",
       "      <th>32</th>\n",
       "      <th>33</th>\n",
       "      <th>34</th>\n",
       "      <th>35</th>\n",
       "      <th>36</th>\n",
       "      <th>37</th>\n",
       "      <th>38</th>\n",
       "      <th>39</th>\n",
       "      <th>40</th>\n",
       "    </tr>\n",
       "    <tr>\n",
       "      <th>Cover_Type</th>\n",
       "      <th></th>\n",
       "      <th></th>\n",
       "      <th></th>\n",
       "      <th></th>\n",
       "      <th></th>\n",
       "      <th></th>\n",
       "      <th></th>\n",
       "      <th></th>\n",
       "      <th></th>\n",
       "      <th></th>\n",
       "      <th></th>\n",
       "      <th></th>\n",
       "      <th></th>\n",
       "      <th></th>\n",
       "      <th></th>\n",
       "      <th></th>\n",
       "      <th></th>\n",
       "      <th></th>\n",
       "      <th></th>\n",
       "      <th></th>\n",
       "      <th></th>\n",
       "    </tr>\n",
       "  </thead>\n",
       "  <tbody>\n",
       "    <tr>\n",
       "      <th>1</th>\n",
       "      <td>0</td>\n",
       "      <td>0</td>\n",
       "      <td>0</td>\n",
       "      <td>5</td>\n",
       "      <td>0</td>\n",
       "      <td>0</td>\n",
       "      <td>0</td>\n",
       "      <td>1</td>\n",
       "      <td>9</td>\n",
       "      <td>5</td>\n",
       "      <td>...</td>\n",
       "      <td>114</td>\n",
       "      <td>230</td>\n",
       "      <td>184</td>\n",
       "      <td>0</td>\n",
       "      <td>3</td>\n",
       "      <td>0</td>\n",
       "      <td>0</td>\n",
       "      <td>80</td>\n",
       "      <td>79</td>\n",
       "      <td>49</td>\n",
       "    </tr>\n",
       "    <tr>\n",
       "      <th>2</th>\n",
       "      <td>0</td>\n",
       "      <td>3</td>\n",
       "      <td>12</td>\n",
       "      <td>20</td>\n",
       "      <td>0</td>\n",
       "      <td>7</td>\n",
       "      <td>1</td>\n",
       "      <td>9</td>\n",
       "      <td>81</td>\n",
       "      <td>67</td>\n",
       "      <td>...</td>\n",
       "      <td>97</td>\n",
       "      <td>255</td>\n",
       "      <td>184</td>\n",
       "      <td>12</td>\n",
       "      <td>1</td>\n",
       "      <td>2</td>\n",
       "      <td>0</td>\n",
       "      <td>7</td>\n",
       "      <td>3</td>\n",
       "      <td>3</td>\n",
       "    </tr>\n",
       "    <tr>\n",
       "      <th>3</th>\n",
       "      <td>121</td>\n",
       "      <td>283</td>\n",
       "      <td>133</td>\n",
       "      <td>462</td>\n",
       "      <td>55</td>\n",
       "      <td>248</td>\n",
       "      <td>0</td>\n",
       "      <td>0</td>\n",
       "      <td>717</td>\n",
       "      <td>89</td>\n",
       "      <td>...</td>\n",
       "      <td>0</td>\n",
       "      <td>5</td>\n",
       "      <td>0</td>\n",
       "      <td>0</td>\n",
       "      <td>0</td>\n",
       "      <td>0</td>\n",
       "      <td>0</td>\n",
       "      <td>0</td>\n",
       "      <td>0</td>\n",
       "      <td>0</td>\n",
       "    </tr>\n",
       "    <tr>\n",
       "      <th>4</th>\n",
       "      <td>139</td>\n",
       "      <td>94</td>\n",
       "      <td>799</td>\n",
       "      <td>133</td>\n",
       "      <td>39</td>\n",
       "      <td>244</td>\n",
       "      <td>0</td>\n",
       "      <td>0</td>\n",
       "      <td>170</td>\n",
       "      <td>24</td>\n",
       "      <td>...</td>\n",
       "      <td>0</td>\n",
       "      <td>0</td>\n",
       "      <td>0</td>\n",
       "      <td>0</td>\n",
       "      <td>0</td>\n",
       "      <td>0</td>\n",
       "      <td>0</td>\n",
       "      <td>0</td>\n",
       "      <td>0</td>\n",
       "      <td>0</td>\n",
       "    </tr>\n",
       "    <tr>\n",
       "      <th>5</th>\n",
       "      <td>0</td>\n",
       "      <td>61</td>\n",
       "      <td>0</td>\n",
       "      <td>129</td>\n",
       "      <td>0</td>\n",
       "      <td>0</td>\n",
       "      <td>0</td>\n",
       "      <td>0</td>\n",
       "      <td>64</td>\n",
       "      <td>154</td>\n",
       "      <td>...</td>\n",
       "      <td>87</td>\n",
       "      <td>100</td>\n",
       "      <td>115</td>\n",
       "      <td>4</td>\n",
       "      <td>0</td>\n",
       "      <td>0</td>\n",
       "      <td>0</td>\n",
       "      <td>0</td>\n",
       "      <td>0</td>\n",
       "      <td>0</td>\n",
       "    </tr>\n",
       "    <tr>\n",
       "      <th>6</th>\n",
       "      <td>95</td>\n",
       "      <td>182</td>\n",
       "      <td>18</td>\n",
       "      <td>87</td>\n",
       "      <td>71</td>\n",
       "      <td>151</td>\n",
       "      <td>0</td>\n",
       "      <td>0</td>\n",
       "      <td>1101</td>\n",
       "      <td>67</td>\n",
       "      <td>...</td>\n",
       "      <td>7</td>\n",
       "      <td>30</td>\n",
       "      <td>66</td>\n",
       "      <td>2</td>\n",
       "      <td>0</td>\n",
       "      <td>0</td>\n",
       "      <td>0</td>\n",
       "      <td>0</td>\n",
       "      <td>0</td>\n",
       "      <td>0</td>\n",
       "    </tr>\n",
       "    <tr>\n",
       "      <th>7</th>\n",
       "      <td>0</td>\n",
       "      <td>0</td>\n",
       "      <td>0</td>\n",
       "      <td>7</td>\n",
       "      <td>0</td>\n",
       "      <td>0</td>\n",
       "      <td>0</td>\n",
       "      <td>0</td>\n",
       "      <td>0</td>\n",
       "      <td>0</td>\n",
       "      <td>...</td>\n",
       "      <td>27</td>\n",
       "      <td>70</td>\n",
       "      <td>67</td>\n",
       "      <td>4</td>\n",
       "      <td>98</td>\n",
       "      <td>8</td>\n",
       "      <td>34</td>\n",
       "      <td>641</td>\n",
       "      <td>575</td>\n",
       "      <td>407</td>\n",
       "    </tr>\n",
       "  </tbody>\n",
       "</table>\n",
       "<p>7 rows × 38 columns</p>\n",
       "</div>"
      ],
      "text/plain": [
       "Soil_Type    1    2    3    4   5    6   8   9     10   11  ...   31   32  \\\n",
       "Cover_Type                                                  ...             \n",
       "1             0    0    0    5   0    0   0   1     9    5  ...  114  230   \n",
       "2             0    3   12   20   0    7   1   9    81   67  ...   97  255   \n",
       "3           121  283  133  462  55  248   0   0   717   89  ...    0    5   \n",
       "4           139   94  799  133  39  244   0   0   170   24  ...    0    0   \n",
       "5             0   61    0  129   0    0   0   0    64  154  ...   87  100   \n",
       "6            95  182   18   87  71  151   0   0  1101   67  ...    7   30   \n",
       "7             0    0    0    7   0    0   0   0     0    0  ...   27   70   \n",
       "\n",
       "Soil_Type    33  34  35  36  37   38   39   40  \n",
       "Cover_Type                                      \n",
       "1           184   0   3   0   0   80   79   49  \n",
       "2           184  12   1   2   0    7    3    3  \n",
       "3             0   0   0   0   0    0    0    0  \n",
       "4             0   0   0   0   0    0    0    0  \n",
       "5           115   4   0   0   0    0    0    0  \n",
       "6            66   2   0   0   0    0    0    0  \n",
       "7            67   4  98   8  34  641  575  407  \n",
       "\n",
       "[7 rows x 38 columns]"
      ]
     },
     "execution_count": 9,
     "metadata": {},
     "output_type": "execute_result"
    }
   ],
   "source": [
    "ct_by_st = pd.crosstab(index=fc[\"Cover_Type\"], \n",
    "                       columns=fc[\"Soil_Type\"])\n",
    "ct_by_st.head(10)"
   ]
  },
  {
   "cell_type": "markdown",
   "id": "17ddaaa6",
   "metadata": {},
   "source": [
    "Below I will visually represent the information above in the form of a stacked bar chart. "
   ]
  },
  {
   "cell_type": "code",
   "execution_count": 10,
   "id": "357d549f",
   "metadata": {
    "scrolled": true
   },
   "outputs": [
    {
     "data": {
      "image/png": "[encoded data removed]",
      "text/plain": [
       "<Figure size 1200x600 with 1 Axes>"
      ]
     },
     "metadata": {},
     "output_type": "display_data"
    }
   ],
   "source": [
    "plt.figure(figsize=[12,6])\n",
    "\n",
    "ct_by_st_props = ct_by_st / ct_by_st.sum()\n",
    "\n",
    "bb = np.cumsum(ct_by_st_props) - ct_by_st_props\n",
    "\n",
    "cover_types = ct_by_st_props.index\n",
    "\n",
    "for i, row in enumerate(cover_types):\n",
    "    plt.bar(\n",
    "        ct_by_st_props.columns,\n",
    "        ct_by_st_props.iloc[i],\n",
    "        bottom=bb.iloc[i],\n",
    "        color=palette[i],\n",
    "        edgecolor=\"black\",\n",
    "        label=row\n",
    "    )\n",
    "\n",
    "plt.xlabel(\"Soil Type\")\n",
    "plt.ylabel(\"Proportion\")\n",
    "plt.title(\"Distribution of Cover Type by Soil Type\")\n",
    "\n",
    "plt.legend(loc=\"upper right\", bbox_to_anchor=(1.2, 1))\n",
    "\n",
    "plt.show()"
   ]
  },
  {
   "cell_type": "markdown",
   "id": "582ce520",
   "metadata": {},
   "source": [
    "## Part 4: Distribution of Elevation by Cover Type\n",
    "In Part 4 we will explore the relationship between cover type and elevation.  We will start by calculating the average elevation for each of the seven cover types."
   ]
  },
  {
   "cell_type": "code",
   "execution_count": 11,
   "id": "122bbc00",
   "metadata": {
    "scrolled": true
   },
   "outputs": [
    {
     "data": {
      "text/html": [
       "<div>\n",
       "<style scoped>\n",
       "    .dataframe tbody tr th:only-of-type {\n",
       "        vertical-align: middle;\n",
       "    }\n",
       "\n",
       "    .dataframe tbody tr th {\n",
       "        vertical-align: top;\n",
       "    }\n",
       "\n",
       "    .dataframe thead th {\n",
       "        text-align: right;\n",
       "    }\n",
       "</style>\n",
       "<table border=\"1\" class=\"dataframe\">\n",
       "  <thead>\n",
       "    <tr style=\"text-align: right;\">\n",
       "      <th></th>\n",
       "      <th>Elevation</th>\n",
       "    </tr>\n",
       "    <tr>\n",
       "      <th>Cover_Type</th>\n",
       "      <th></th>\n",
       "    </tr>\n",
       "  </thead>\n",
       "  <tbody>\n",
       "    <tr>\n",
       "      <th>1</th>\n",
       "      <td>3128.025926</td>\n",
       "    </tr>\n",
       "    <tr>\n",
       "      <th>2</th>\n",
       "      <td>2922.540278</td>\n",
       "    </tr>\n",
       "    <tr>\n",
       "      <th>3</th>\n",
       "      <td>2398.423148</td>\n",
       "    </tr>\n",
       "    <tr>\n",
       "      <th>4</th>\n",
       "      <td>2223.420370</td>\n",
       "    </tr>\n",
       "    <tr>\n",
       "      <th>5</th>\n",
       "      <td>2786.801389</td>\n",
       "    </tr>\n",
       "    <tr>\n",
       "      <th>6</th>\n",
       "      <td>2423.276852</td>\n",
       "    </tr>\n",
       "    <tr>\n",
       "      <th>7</th>\n",
       "      <td>3362.769907</td>\n",
       "    </tr>\n",
       "  </tbody>\n",
       "</table>\n",
       "</div>"
      ],
      "text/plain": [
       "              Elevation\n",
       "Cover_Type             \n",
       "1           3128.025926\n",
       "2           2922.540278\n",
       "3           2398.423148\n",
       "4           2223.420370\n",
       "5           2786.801389\n",
       "6           2423.276852\n",
       "7           3362.769907"
      ]
     },
     "execution_count": 11,
     "metadata": {},
     "output_type": "execute_result"
    }
   ],
   "source": [
    "fc.loc[:, [\"Elevation\", \"Cover_Type\"]].groupby(\"Cover_Type\").mean(numeric_only=True).head(10)"
   ]
  },
  {
   "cell_type": "markdown",
   "id": "d96bbfac",
   "metadata": {},
   "source": [
    "Below I will create histograms to visually explore the distribution of elevations for each of the seven cover types."
   ]
  },
  {
   "cell_type": "code",
   "execution_count": 12,
   "id": "f3bb8e24",
   "metadata": {
    "scrolled": false
   },
   "outputs": [
    {
     "data": {
      "image/png": "[encoded data removed]",
      "text/plain": [
       "<Figure size 1200x600 with 7 Axes>"
      ]
     },
     "metadata": {},
     "output_type": "display_data"
    }
   ],
   "source": [
    "plt.figure(figsize=[12, 6])\n",
    "\n",
    "for i in range(1,8):\n",
    "    plt.subplot(2, 4, i)\n",
    "    x_ = fc.loc[:, \"Elevation\"][fc[\"Cover_Type\"] == i]\n",
    "    \n",
    "    plt.hist(x=x_, bins=np.arange(1800, 4050, 50), color=palette[i-1], \n",
    "             edgecolor=\"black\")\n",
    "    plt.title(f\"Cover Type {i}\")\n",
    "    plt.xlim([1800,4000]) \n",
    "    plt.ylim([0,600])\n",
    "    plt.xlabel(\"Elevation\")\n",
    "    plt.ylabel(\"Count\")\n",
    "    \n",
    "plt.tight_layout()\n",
    "plt.show()    "
   ]
  },
  {
   "cell_type": "markdown",
   "id": "70bbbdd3",
   "metadata": {},
   "source": [
    "## Part 5: Creating Training, Validation, and Test Sets\n",
    "In Part 5 I will encode the categorical variables and create training, validation, and test sets.  Below I will start by separating the categorical features, the numerical features, and the labels."
   ]
  },
  {
   "cell_type": "code",
   "execution_count": 27,
   "id": "3fbea4a1",
   "metadata": {},
   "outputs": [
    {
     "name": "stdout",
     "output_type": "stream",
     "text": [
      "Numerical Feature Array Shape:   (15120, 10)\n",
      "Categorical Feature Array Shape: (15120, 2)\n",
      "Label Array Shape:               (15120,)\n"
     ]
    }
   ],
   "source": [
    "X_num = np.array(fc.loc[:, \"Elevation\" : \"Horizontal_Distance_To_Fire_Points\"])\n",
    "X_cat = np.array(fc.loc[:, [\"Wilderness_Area\", \"Soil_Type\"]])\n",
    "y = np.array(fc.loc[:, \"Cover_Type\"])\n",
    "\n",
    "\n",
    "print(f\"\"\"Numerical Feature Array Shape:   {X_num.shape}\n",
    "Categorical Feature Array Shape: {X_cat.shape}\n",
    "Label Array Shape:               {y.shape}\"\"\")"
   ]
  },
  {
   "cell_type": "code",
   "execution_count": 31,
   "id": "821db199",
   "metadata": {},
   "outputs": [
    {
     "name": "stdout",
     "output_type": "stream",
     "text": [
      "(15120, 10) <class 'numpy.ndarray'>\n",
      "[5 5 2 ... 3 3 3]\n"
     ]
    }
   ],
   "source": [
    "print(X_num.shape, type(X_num))\n",
    "print(y)\n"
   ]
  },
  {
   "cell_type": "markdown",
   "id": "860de6ad",
   "metadata": {},
   "source": [
    "Below I will now be encoding the categorical variables using one-hot encoding.  This will allow the machine learning algorithm to more effectively analyze the data."
   ]
  },
  {
   "cell_type": "code",
   "execution_count": 14,
   "id": "dbd810f1",
   "metadata": {},
   "outputs": [
    {
     "name": "stdout",
     "output_type": "stream",
     "text": [
      "Encoded Feature Array Shape: (15120, 42)\n"
     ]
    }
   ],
   "source": [
    "encoder = OneHotEncoder(sparse_output=False)\n",
    "encoder.fit(X_cat)\n",
    "X_enc = encoder.transform(X_cat)\n",
    "\n",
    "print(f\"Encoded Feature Array Shape: {X_enc.shape}\")"
   ]
  },
  {
   "cell_type": "markdown",
   "id": "13de6689",
   "metadata": {},
   "source": [
    "Below I will now combine the numerical features with the encoded features."
   ]
  },
  {
   "cell_type": "code",
   "execution_count": 15,
   "id": "24e0a2f8",
   "metadata": {},
   "outputs": [
    {
     "name": "stdout",
     "output_type": "stream",
     "text": [
      "Feature Array Shape: (15120, 52)\n"
     ]
    }
   ],
   "source": [
    "X = np.hstack((X_num, X_enc))\n",
    "\n",
    "print(f\"Feature Array Shape: {X.shape}\")"
   ]
  },
  {
   "cell_type": "markdown",
   "id": "9e08fc81",
   "metadata": {},
   "source": [
    "Below we will now split the data into training, validation, and test sets, using a 70/15/15 split."
   ]
  },
  {
   "cell_type": "code",
   "execution_count": 16,
   "id": "357bfd90",
   "metadata": {},
   "outputs": [
    {
     "name": "stdout",
     "output_type": "stream",
     "text": [
      "Training Features Shape: (10584, 52)\n",
      "Validation Features Shape: (2268, 52)\n",
      "Test Features Shape: (2268, 52)\n"
     ]
    }
   ],
   "source": [
    "X_train, X_hold, y_train, y_hold = train_test_split(\n",
    "    X, y, test_size=0.3, random_state=1, stratify=y)\n",
    "\n",
    "X_valid, X_test, y_valid, y_test = train_test_split(\n",
    "    X_hold, y_hold, test_size=0.5, random_state=1, stratify=y_hold)\n",
    "\n",
    "\n",
    "print(f\"\"\"Training Features Shape: {X_train.shape}\n",
    "Validation Features Shape: {X_valid.shape}\n",
    "Test Features Shape: {X_test.shape}\"\"\")"
   ]
  },
  {
   "cell_type": "markdown",
   "id": "2706f533",
   "metadata": {},
   "source": [
    "## Part 6: Logistic Regression Model\n",
    "In Part 6, I will create and evaluate a logistic regression model.\n"
   ]
  },
  {
   "cell_type": "code",
   "execution_count": 17,
   "id": "698f3851",
   "metadata": {},
   "outputs": [
    {
     "name": "stdout",
     "output_type": "stream",
     "text": [
      "Training Accuracy: 0.6159\n",
      "Validation Accuracy: 0.6190\n"
     ]
    },
    {
     "name": "stderr",
     "output_type": "stream",
     "text": [
      "C:\\Users\\cdhin\\anaconda3.1\\lib\\site-packages\\sklearn\\linear_model\\_logistic.py:458: ConvergenceWarning: lbfgs failed to converge (status=1):\n",
      "STOP: TOTAL NO. of ITERATIONS REACHED LIMIT.\n",
      "\n",
      "Increase the number of iterations (max_iter) or scale the data as shown in:\n",
      "    https://scikit-learn.org/stable/modules/preprocessing.html\n",
      "Please also refer to the documentation for alternative solver options:\n",
      "    https://scikit-learn.org/stable/modules/linear_model.html#logistic-regression\n",
      "  n_iter_i = _check_optimize_result(\n"
     ]
    }
   ],
   "source": [
    "lr_mod = LogisticRegression(penalty=None, solver=\"lbfgs\", max_iter=1000, \n",
    "                            multi_class=\"multinomial\").\\\n",
    "                            fit(X_train, y_train)\n",
    "\n",
    "print(f\"\"\"Training Accuracy: {lr_mod.score(X_train, y_train):.4f}\n",
    "Validation Accuracy: {lr_mod.score(X_valid, y_valid):.4f}\"\"\")\n"
   ]
  },
  {
   "cell_type": "markdown",
   "id": "07d61c89",
   "metadata": {},
   "source": [
    "## Part 7: Decision Tree Models\n",
    "In Part 7 we will see several decision tree models, each with a different value for the max depth. For each parameter value, we will calculate the training and validation accuracy. We will use the validation scores to select the optimal value for max depth."
   ]
  },
  {
   "cell_type": "code",
   "execution_count": 18,
   "id": "24994b70",
   "metadata": {},
   "outputs": [
    {
     "name": "stdout",
     "output_type": "stream",
     "text": [
      "Optimal value for max_depth:           18\n",
      "Training Accuracy for Optimal Model:   0.9804\n",
      "Validation Accuracy for Optimal Model: 0.7720\n"
     ]
    }
   ],
   "source": [
    "dt_train_acc = []\n",
    "dt_valid_acc = []\n",
    "depth_range = range(2, 31)\n",
    "\n",
    "for depth in depth_range:\n",
    "    np.random.seed(1)\n",
    "    temp_tree = DecisionTreeClassifier(max_depth=depth)\n",
    "    temp_tree.fit(X_train, y_train)\n",
    "    \n",
    "    dt_train_acc.append(temp_tree.score(X_train, y_train))\n",
    "    dt_valid_acc.append(temp_tree.score(X_valid, y_valid))\n",
    "    \n",
    "    # Earse later\n",
    "    #print(f\"Index: {depth}  Depth: {dt_valid_acc[depth-2]:.4f}\\n\")\n",
    "    \n",
    "dt_idx = np.argmax(dt_valid_acc)\n",
    "dt_opt_depth = depth_range[dt_idx]\n",
    "\n",
    "opt_train_acc = dt_train_acc[dt_idx]\n",
    "opt_valid_acc = dt_valid_acc[dt_idx]\n",
    "\n",
    "print(f\"\"\"Optimal value for max_depth:           {dt_opt_depth}\n",
    "Training Accuracy for Optimal Model:   {opt_train_acc:.4f}\n",
    "Validation Accuracy for Optimal Model: {opt_valid_acc:.4f}\"\"\")"
   ]
  },
  {
   "cell_type": "markdown",
   "id": "75a1d3db",
   "metadata": {},
   "source": [
    "Below I will plot the training and validation curves as a function of max_depth."
   ]
  },
  {
   "cell_type": "code",
   "execution_count": 19,
   "id": "70f3b3cd",
   "metadata": {
    "scrolled": false
   },
   "outputs": [
    {
     "data": {
      "image/png": "[encoded data removed]",
      "text/plain": [
       "<Figure size 640x480 with 1 Axes>"
      ]
     },
     "metadata": {},
     "output_type": "display_data"
    }
   ],
   "source": [
    "plt.figure()\n",
    "\n",
    "plt.plot(depth_range, dt_train_acc)\n",
    "plt.plot(depth_range, dt_valid_acc)\n",
    "plt.xlabel(\"Max Depth\")\n",
    "plt.ylabel(\"Accuracy\")\n",
    "plt.ylim(0.4, 1.1)\n",
    "plt.legend([\"Training\", \"Validation\"], loc=\"upper right\", bbox_to_anchor=(1.3, 1))\n",
    "\n",
    "plt.show()"
   ]
  },
  {
   "cell_type": "markdown",
   "id": "9d51a450",
   "metadata": {},
   "source": [
    "## Part 8: Random Forest Models\n",
    "In Part 8 I will create and evaluate several random forest models. We will now create several random forest models, each with a different value for the max_depth parameter. For each parameter value, we will calculate the training and validation accuracy. We will use the validation scores to select the optimal value for max_depth. "
   ]
  },
  {
   "cell_type": "code",
   "execution_count": 20,
   "id": "f155aa23",
   "metadata": {},
   "outputs": [
    {
     "name": "stdout",
     "output_type": "stream",
     "text": [
      "Optimal value for max_depth:           18\n",
      "Training Accuracy for Optimal Model:   1.0000\n",
      "Validation Accuracy for Optimal Model: 0.8677\n"
     ]
    }
   ],
   "source": [
    "rf_train_acc = [] \n",
    "rf_valid_acc = []\n",
    "\n",
    "for depth in depth_range:\n",
    "    np.random.seed(1)\n",
    "    \n",
    "    temp_forest = RandomForestClassifier(max_depth=depth, \n",
    "                                         n_estimators=100)\n",
    "    temp_forest.fit(X_train, y_train)\n",
    "    \n",
    "    rf_train_acc.append(temp_forest.score(X_train, y_train))\n",
    "    rf_valid_acc.append(temp_forest.score(X_valid, y_valid))\n",
    "    \n",
    "rf_idx = np.argmax(rf_valid_acc)\n",
    "rf_opt_depth = depth_range[dt_idx]\n",
    "\n",
    "opt_train_acc = rf_train_acc[rf_idx]\n",
    "opt_valid_acc = rf_valid_acc[rf_idx]\n",
    "\n",
    "print(f\"\"\"Optimal value for max_depth:           {rf_opt_depth}\n",
    "Training Accuracy for Optimal Model:   {opt_train_acc:.4f}\n",
    "Validation Accuracy for Optimal Model: {opt_valid_acc:.4f}\"\"\")"
   ]
  },
  {
   "cell_type": "markdown",
   "id": "d37c6417",
   "metadata": {},
   "source": [
    "Below I will plot the training and validation curves as a function of max_depth."
   ]
  },
  {
   "cell_type": "code",
   "execution_count": 21,
   "id": "dda7a2e7",
   "metadata": {
    "scrolled": true
   },
   "outputs": [
    {
     "data": {
      "image/png": "[encoded data removed]",
      "text/plain": [
       "<Figure size 640x480 with 1 Axes>"
      ]
     },
     "metadata": {},
     "output_type": "display_data"
    }
   ],
   "source": [
    "plt.figure()\n",
    "\n",
    "plt.plot(depth_range, rf_train_acc)\n",
    "plt.plot(depth_range, rf_valid_acc)\n",
    "plt.xlabel(\"Max Depth\")\n",
    "plt.ylabel(\"Accuracy\")\n",
    "plt.ylim(0.5, 1.1)\n",
    "plt.legend([\"Training\", \"Validation\"], loc=\"upper right\", bbox_to_anchor=(1.3, 1))\n",
    "\n",
    "plt.show()"
   ]
  },
  {
   "cell_type": "markdown",
   "id": "1f2b0483",
   "metadata": {},
   "source": [
    "## Part 9: Create and Evaluate Final Model \n",
    "In Part 9 we will select our final model, and will evaluate it on the test set.  I have selected the Random Forrest model for the final model due to it having the highest accuracy on the validation model, with a depth of 18. "
   ]
  },
  {
   "cell_type": "code",
   "execution_count": 22,
   "id": "889f6e27",
   "metadata": {
    "scrolled": true
   },
   "outputs": [
    {
     "name": "stdout",
     "output_type": "stream",
     "text": [
      "\n",
      "Training Accuracy for Final Model:   0.9937\n",
      "Validation Accuracy for Final Model: 0.8545\n",
      "Testing Accuracy for Final Model:    0.8496\n",
      "\n"
     ]
    }
   ],
   "source": [
    "np.random.seed(1)\n",
    "final_model = RandomForestClassifier(max_depth=18, n_estimators=100)\n",
    "final_model.fit(X_train, y_train)\n",
    "\n",
    "fm_train_acc = final_model.score(X_train, y_train)\n",
    "fm_valid_acc = final_model.score(X_valid, y_valid)\n",
    "fm_test_acc = final_model.score(X_test, y_test)\n",
    "print(f\"\"\"\n",
    "Training Accuracy for Final Model:   {fm_train_acc:.4f}\n",
    "Validation Accuracy for Final Model: {fm_valid_acc:.4f}\n",
    "Testing Accuracy for Final Model:    {fm_test_acc:.4f}\n",
    "\"\"\")"
   ]
  },
  {
   "cell_type": "markdown",
   "id": "579d030e",
   "metadata": {},
   "source": [
    "Below we will now create and display a confusion matrix detailing the model's performance on the test set. "
   ]
  },
  {
   "cell_type": "code",
   "execution_count": 23,
   "id": "4cdfccf2",
   "metadata": {},
   "outputs": [
    {
     "data": {
      "text/html": [
       "<div>\n",
       "<style scoped>\n",
       "    .dataframe tbody tr th:only-of-type {\n",
       "        vertical-align: middle;\n",
       "    }\n",
       "\n",
       "    .dataframe tbody tr th {\n",
       "        vertical-align: top;\n",
       "    }\n",
       "\n",
       "    .dataframe thead th {\n",
       "        text-align: right;\n",
       "    }\n",
       "</style>\n",
       "<table border=\"1\" class=\"dataframe\">\n",
       "  <thead>\n",
       "    <tr style=\"text-align: right;\">\n",
       "      <th></th>\n",
       "      <th>1</th>\n",
       "      <th>2</th>\n",
       "      <th>3</th>\n",
       "      <th>4</th>\n",
       "      <th>5</th>\n",
       "      <th>6</th>\n",
       "      <th>7</th>\n",
       "    </tr>\n",
       "  </thead>\n",
       "  <tbody>\n",
       "    <tr>\n",
       "      <th>1</th>\n",
       "      <td>233</td>\n",
       "      <td>61</td>\n",
       "      <td>2</td>\n",
       "      <td>0</td>\n",
       "      <td>6</td>\n",
       "      <td>0</td>\n",
       "      <td>22</td>\n",
       "    </tr>\n",
       "    <tr>\n",
       "      <th>2</th>\n",
       "      <td>59</td>\n",
       "      <td>228</td>\n",
       "      <td>7</td>\n",
       "      <td>0</td>\n",
       "      <td>19</td>\n",
       "      <td>8</td>\n",
       "      <td>3</td>\n",
       "    </tr>\n",
       "    <tr>\n",
       "      <th>3</th>\n",
       "      <td>0</td>\n",
       "      <td>1</td>\n",
       "      <td>259</td>\n",
       "      <td>18</td>\n",
       "      <td>2</td>\n",
       "      <td>44</td>\n",
       "      <td>0</td>\n",
       "    </tr>\n",
       "    <tr>\n",
       "      <th>4</th>\n",
       "      <td>0</td>\n",
       "      <td>0</td>\n",
       "      <td>6</td>\n",
       "      <td>314</td>\n",
       "      <td>0</td>\n",
       "      <td>4</td>\n",
       "      <td>0</td>\n",
       "    </tr>\n",
       "    <tr>\n",
       "      <th>5</th>\n",
       "      <td>0</td>\n",
       "      <td>10</td>\n",
       "      <td>5</td>\n",
       "      <td>0</td>\n",
       "      <td>304</td>\n",
       "      <td>5</td>\n",
       "      <td>0</td>\n",
       "    </tr>\n",
       "    <tr>\n",
       "      <th>6</th>\n",
       "      <td>0</td>\n",
       "      <td>0</td>\n",
       "      <td>37</td>\n",
       "      <td>10</td>\n",
       "      <td>2</td>\n",
       "      <td>275</td>\n",
       "      <td>0</td>\n",
       "    </tr>\n",
       "    <tr>\n",
       "      <th>7</th>\n",
       "      <td>9</td>\n",
       "      <td>1</td>\n",
       "      <td>0</td>\n",
       "      <td>0</td>\n",
       "      <td>0</td>\n",
       "      <td>0</td>\n",
       "      <td>314</td>\n",
       "    </tr>\n",
       "  </tbody>\n",
       "</table>\n",
       "</div>"
      ],
      "text/plain": [
       "     1    2    3    4    5    6    7\n",
       "1  233   61    2    0    6    0   22\n",
       "2   59  228    7    0   19    8    3\n",
       "3    0    1  259   18    2   44    0\n",
       "4    0    0    6  314    0    4    0\n",
       "5    0   10    5    0  304    5    0\n",
       "6    0    0   37   10    2  275    0\n",
       "7    9    1    0    0    0    0  314"
      ]
     },
     "execution_count": 23,
     "metadata": {},
     "output_type": "execute_result"
    }
   ],
   "source": [
    "test_pred = final_model.predict(X_test)\n",
    "fm_cm = confusion_matrix(y_test, test_pred)\n",
    "df_fm_cm = pd.DataFrame(fm_cm, index=range(1,8), columns=range(1,8))\n",
    "\n",
    "df_fm_cm.head(10)"
   ]
  },
  {
   "cell_type": "markdown",
   "id": "83300d02",
   "metadata": {},
   "source": [
    "Finally we will now generate a classification report to provide further insight into the model's performance on the test set. "
   ]
  },
  {
   "cell_type": "code",
   "execution_count": 24,
   "id": "72ff32ea",
   "metadata": {
    "scrolled": true
   },
   "outputs": [
    {
     "name": "stdout",
     "output_type": "stream",
     "text": [
      "              precision    recall  f1-score   support\n",
      "\n",
      "           1       0.77      0.72      0.75       324\n",
      "           2       0.76      0.70      0.73       324\n",
      "           3       0.82      0.80      0.81       324\n",
      "           4       0.92      0.97      0.94       324\n",
      "           5       0.91      0.94      0.93       324\n",
      "           6       0.82      0.85      0.83       324\n",
      "           7       0.93      0.97      0.95       324\n",
      "\n",
      "    accuracy                           0.85      2268\n",
      "   macro avg       0.85      0.85      0.85      2268\n",
      "weighted avg       0.85      0.85      0.85      2268\n",
      "\n"
     ]
    }
   ],
   "source": [
    "print(classification_report(y_test, test_pred))"
   ]
  }
 ],
 "metadata": {
  "kernelspec": {
   "display_name": "Python 3 (ipykernel)",
   "language": "python",
   "name": "python3"
  },
  "language_info": {
   "codemirror_mode": {
    "name": "ipython",
    "version": 3
   },
   "file_extension": ".py",
   "mimetype": "text/x-python",
   "name": "python",
   "nbconvert_exporter": "python",
   "pygments_lexer": "ipython3",
   "version": "3.10.9"
  }
 },
 "nbformat": 4,
 "nbformat_minor": 5
}
